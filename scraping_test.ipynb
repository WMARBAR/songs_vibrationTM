{
 "cells": [
  {
   "cell_type": "code",
   "execution_count": 32,
   "id": "7925a424",
   "metadata": {},
   "outputs": [],
   "source": [
    "from selenium import webdriver\n",
    "from selenium.webdriver.common.by import By\n",
    "from selenium.webdriver.support.ui import WebDriverWait\n",
    "from selenium.webdriver.support import expected_conditions as EC\n",
    "import csv\n",
    "import time\n",
    "from bs4 import BeautifulSoup\n",
    "import pandas as pd\n",
    "import re\n"
   ]
  },
  {
   "cell_type": "markdown",
   "id": "30597ca4",
   "metadata": {},
   "source": [
    "# GENEROS Y CANCIONES"
   ]
  },
  {
   "cell_type": "code",
   "execution_count": 33,
   "id": "d93e6338",
   "metadata": {},
   "outputs": [],
   "source": [
    "ranchera_links = [\n",
    "    \"https://www.letras.com/vicente-fernandez/el-rey/\",\n",
    "    \"https://www.letras.com/vicente-fernandez/copa-tras-copa/\",\n",
    "    \"https://www.letras.com/vicente-fernandez/volver-volver/\",\n",
    "    \"https://www.letras.com/jose-alfredo-jimenez/si-nos-dejan/\",\n",
    "    \"https://www.letras.com/vicente-fernandez/la-diferencia/\",\n",
    "    \"https://www.letras.com/jose-alfredo-jimenez/camino-de-guanajuato/\",\n",
    "    \"https://www.letras.com/vicente-fernandez/estos-celos/\",\n",
    "    \"https://www.letras.com/jose-alfredo-jimenez/un-mundo-raro/\",\n",
    "    \"https://www.letras.com/vicente-fernandez/hermoso-carino/\",\n",
    "    \"https://www.letras.com/rocio-durcal/amor-eterno/\"\n",
    "]\n",
    "\n"
   ]
  },
  {
   "cell_type": "markdown",
   "id": "d297dcee",
   "metadata": {},
   "source": [
    "# SCRAPEO"
   ]
  },
  {
   "cell_type": "code",
   "execution_count": 34,
   "id": "80acacdd",
   "metadata": {},
   "outputs": [],
   "source": [
    "\n",
    "driver = webdriver.Chrome()\n",
    "url = f'{ranchera_links[1]}'\n",
    "driver.get(url)\n",
    "# Espera a que la página cargue completamente\n",
    "time.sleep(5)  # Puedes ajustar el tiempo de espera según sea necesario\n",
    "html = driver.page_source\n",
    "soup = BeautifulSoup(html, 'html.parser')"
   ]
  },
  {
   "cell_type": "markdown",
   "id": "3a6cd451",
   "metadata": {},
   "source": [
    "# AUTORES Y CANCIONES"
   ]
  },
  {
   "cell_type": "code",
   "execution_count": 35,
   "id": "524df1a4",
   "metadata": {},
   "outputs": [
    {
     "name": "stdout",
     "output_type": "stream",
     "text": [
      "Canción: Tómate una Copa\n",
      "Autor: Vicente Fernández\n"
     ]
    }
   ],
   "source": [
    "# Obtener el nombre de la canción\n",
    "song_tag = soup.find('h1', class_='textStyle-primary')\n",
    "song_name = song_tag.text.strip() if song_tag else 'No encontrado'\n",
    "\n",
    "# Obtener el nombre del autor\n",
    "author_tag = soup.find('h2', class_='textStyle-secondary')\n",
    "author_name = author_tag.text.strip() if author_tag else 'No encontrado'\n",
    "\n",
    "print(f'Canción: {song_name}')\n",
    "print(f'Autor: {author_name}')"
   ]
  },
  {
   "cell_type": "markdown",
   "id": "049cc2b5",
   "metadata": {},
   "source": [
    "# ESTROFAS"
   ]
  },
  {
   "cell_type": "code",
   "execution_count": 36,
   "id": "707a1024",
   "metadata": {},
   "outputs": [
    {
     "name": "stdout",
     "output_type": "stream",
     "text": [
      "estrofa1:\n",
      "Siéntate a mi lado\n",
      "Mi reciente amiga\n",
      "Tomate una copa\n",
      "Mientras escuchamos\n",
      "Aquella canción\n",
      "--------------------\n",
      "estrofa2:\n",
      "Tú no me conoces\n",
      "Ni yo te conozco\n",
      "Pero este momento\n",
      "Quiero ser tu amigo\n",
      "Por una ocasión\n",
      "--------------------\n",
      "estrofa3:\n",
      "Si ves en mis ojos\n",
      "Lágrimas que corren\n",
      "No es que esté llorando\n",
      "Es que estoy fumando\n",
      "Y el humo me entró\n",
      "--------------------\n",
      "estrofa4:\n",
      "Siéntate a mi lado\n",
      "Tomate una copa\n",
      "Mientras va secando\n",
      "El llanto que el humo\n",
      "En mis ojos dejó\n",
      "--------------------\n",
      "Vector final de estrofas únicas:\n",
      "['Siéntate a mi lado\\nMi reciente amiga\\nTomate una copa\\nMientras escuchamos\\nAquella canción', 'Tú no me conoces\\nNi yo te conozco\\nPero este momento\\nQuiero ser tu amigo\\nPor una ocasión', 'Si ves en mis ojos\\nLágrimas que corren\\nNo es que esté llorando\\nEs que estoy fumando\\nY el humo me entró', 'Siéntate a mi lado\\nTomate una copa\\nMientras va secando\\nEl llanto que el humo\\nEn mis ojos dejó']\n"
     ]
    }
   ],
   "source": [
    "# Buscar el contenedor principal de la letra\n",
    "lyric_container = soup.find('div', class_='lyric-original')\n",
    "\n",
    "# Extraer todas las estrofas dentro de etiquetas <p>\n",
    "estrofas_unicas = []\n",
    "if lyric_container:\n",
    "    p_tags = lyric_container.find_all('p')\n",
    "    for p in p_tags:\n",
    "        # Obtener el texto de la estrofa con saltos de línea reales\n",
    "        texto = p.get_text(separator=\"\\n\").strip()\n",
    "        # Solo agregar si no está ya en la lista\n",
    "        if texto not in estrofas_unicas:\n",
    "            estrofas_unicas.append(texto)\n",
    "\n",
    "# Crear variables dinámicas estrofa1, estrofa2, etc.\n",
    "for i, estrofa in enumerate(estrofas_unicas, 1):\n",
    "    globals()[f'estrofa{i}'] = estrofa\n",
    "    print(f'estrofa{i}:')\n",
    "    print(estrofa)\n",
    "    print('--------------------')\n",
    "\n",
    "# Crear el vector final con todas las estrofas únicas\n",
    "estrofas = [globals()[f'estrofa{i}'] for i in range(1, len(estrofas_unicas) + 1)]\n",
    "\n",
    "# Si quieres verlo:\n",
    "print('Vector final de estrofas únicas:')\n",
    "print(estrofas)\n"
   ]
  },
  {
   "cell_type": "markdown",
   "id": "5e7fa5c0",
   "metadata": {},
   "source": [
    "# DATABASE"
   ]
  },
  {
   "cell_type": "code",
   "execution_count": 37,
   "id": "1bb452d7",
   "metadata": {},
   "outputs": [],
   "source": [
    "# Crear un diccionario base\n",
    "data = {\n",
    "    'song_name': [song_name],\n",
    "    'author_name': [author_name]\n",
    "}\n",
    "\n",
    "# Agregar dinámicamente las estrofas como columnas: estrofa1, estrofa2, ...\n",
    "for i, estrofa in enumerate(estrofas, 1):\n",
    "    columna = f'estrofa{i}'\n",
    "    data[columna] = [estrofa]\n",
    "\n",
    "# Crear el DataFrame\n",
    "df = pd.DataFrame(data)"
   ]
  },
  {
   "cell_type": "markdown",
   "id": "defd937d",
   "metadata": {},
   "source": [
    "#"
   ]
  },
  {
   "cell_type": "markdown",
   "id": "842850e9",
   "metadata": {},
   "source": [
    "# FUNCTION SONGS DF"
   ]
  },
  {
   "cell_type": "code",
   "execution_count": 38,
   "id": "0fa7ae40",
   "metadata": {},
   "outputs": [],
   "source": [
    "def scrape_lyrics_to_dataframe(links):\n",
    "\n",
    "    driver = webdriver.Chrome()\n",
    "    all_data = []\n",
    "\n",
    "    for url in links:\n",
    "        try:\n",
    "            driver.get(url)\n",
    "            time.sleep(3)  # Espera por si la página tarda en cargar\n",
    "\n",
    "            html = driver.page_source\n",
    "            soup = BeautifulSoup(html, 'html.parser')\n",
    "\n",
    "            # Obtener nombre de la canción\n",
    "            song_tag = soup.find('h1', class_='textStyle-primary')\n",
    "            song_name = song_tag.text.strip() if song_tag else 'No encontrado'\n",
    "\n",
    "            # Obtener nombre del autor\n",
    "            author_tag = soup.find('h2', class_='textStyle-secondary')\n",
    "            author_name = author_tag.text.strip() if author_tag else 'No encontrado'\n",
    "\n",
    "            # Obtener las estrofas únicas\n",
    "            lyric_container = soup.find('div', class_='lyric-original')\n",
    "            estrofas_unicas = []\n",
    "            if lyric_container:\n",
    "                p_tags = lyric_container.find_all('p')\n",
    "                for p in p_tags:\n",
    "                    texto = p.get_text(separator=\"\\n\").strip()\n",
    "                    if texto not in estrofas_unicas:\n",
    "                        estrofas_unicas.append(texto)\n",
    "\n",
    "            # Crear diccionario de la fila\n",
    "            song_data = {\n",
    "                'song_name': song_name,\n",
    "                'author_name': author_name\n",
    "            }\n",
    "\n",
    "            for i, estrofa in enumerate(estrofas_unicas, 1):\n",
    "                song_data[f'estrofa{i}'] = estrofa\n",
    "\n",
    "            all_data.append(song_data)\n",
    "\n",
    "            print(f'Scrapeado: {song_name} - {author_name}')\n",
    "\n",
    "        except Exception as e:\n",
    "            print(f'Error con URL: {url} | Error: {e}')\n",
    "\n",
    "    driver.quit()\n",
    "\n",
    "    # Crear DataFrame final\n",
    "    df = pd.DataFrame(all_data)\n",
    "    return df\n"
   ]
  },
  {
   "cell_type": "code",
   "execution_count": 39,
   "id": "4ddd35f1",
   "metadata": {},
   "outputs": [
    {
     "name": "stdout",
     "output_type": "stream",
     "text": [
      "Scrapeado: El Rey - Vicente Fernández\n",
      "Scrapeado: Tómate una Copa - Vicente Fernández\n",
      "Scrapeado: Volver, Volver - Vicente Fernández\n",
      "Scrapeado: No encontrado - No encontrado\n",
      "Scrapeado: La Diferencia - Vicente Fernández\n",
      "Scrapeado: No encontrado - No encontrado\n",
      "Scrapeado: Estos Celos - Vicente Fernández\n",
      "Scrapeado: Un Mundo Raro - José Alfredo Jiménez\n",
      "Scrapeado: Hermoso Cariño - Vicente Fernández\n",
      "Scrapeado: Amor Eterno - Rocío Durcal\n"
     ]
    }
   ],
   "source": [
    "df_letras = scrape_lyrics_to_dataframe(ranchera_links)\n"
   ]
  },
  {
   "cell_type": "code",
   "execution_count": 40,
   "id": "8c184402",
   "metadata": {},
   "outputs": [],
   "source": [
    "df_letras.to_excel('letras_rancheras.xlsx', index=False)\n"
   ]
  }
 ],
 "metadata": {
  "kernelspec": {
   "display_name": "venv",
   "language": "python",
   "name": "python3"
  },
  "language_info": {
   "codemirror_mode": {
    "name": "ipython",
    "version": 3
   },
   "file_extension": ".py",
   "mimetype": "text/x-python",
   "name": "python",
   "nbconvert_exporter": "python",
   "pygments_lexer": "ipython3",
   "version": "3.11.9"
  }
 },
 "nbformat": 4,
 "nbformat_minor": 5
}
